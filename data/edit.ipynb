{
  "nbformat": 4,
  "nbformat_minor": 0,
  "metadata": {
    "colab": {
      "name": "edit.ipynb",
      "provenance": [],
      "collapsed_sections": []
    },
    "kernelspec": {
      "name": "python3",
      "display_name": "Python 3"
    },
    "language_info": {
      "name": "python"
    }
  },
  "cells": [
    {
      "cell_type": "code",
      "metadata": {
        "id": "JAnul5KDNNzi"
      },
      "source": [
        "import json"
      ],
      "execution_count": 1,
      "outputs": []
    },
    {
      "cell_type": "code",
      "metadata": {
        "id": "uK_fyb_tZsur"
      },
      "source": [
        ""
      ],
      "execution_count": 1,
      "outputs": []
    },
    {
      "cell_type": "markdown",
      "metadata": {
        "id": "jEMa5158XCDW"
      },
      "source": [
        ""
      ]
    },
    {
      "cell_type": "code",
      "metadata": {
        "id": "U0rLlT3zATCN"
      },
      "source": [
        "def getVal(s):\n",
        "  return s.split(\" = \")[-1] if s else None"
      ],
      "execution_count": 2,
      "outputs": []
    },
    {
      "cell_type": "code",
      "metadata": {
        "id": "zf8ofN3CAukS"
      },
      "source": [
        "import re"
      ],
      "execution_count": 3,
      "outputs": []
    },
    {
      "cell_type": "code",
      "metadata": {
        "id": "fnY8La7ZNuVW",
        "colab": {
          "base_uri": "https://localhost:8080/"
        },
        "outputId": "3996bc8d-26cd-4cf4-992d-261bc6bb4835"
      },
      "source": [
        "with open(\"units.json\", \"r\") as openfile:\n",
        "    obj = json.load(openfile)\n",
        "    new_obj = []\n",
        "    print(len(obj.keys()))\n",
        "    for k in obj.keys():\n",
        "      new_k = obj[k]\n",
        "\n",
        "      country = getVal(new_k[\"country\"]).strip(\" '\")\n",
        "      new_k[\"country\"] = country\n",
        "      \n",
        "      tagSet = new_k[\"tagSet\"][1:-3].split(\",\")\n",
        "      for i in range(len(tagSet)):\n",
        "        tagSet[i] = tagSet[i][2:-1]\n",
        "      new_k[\"tagSet\"] = tagSet\n",
        "\n",
        "      nums = [\"concealment bonus\", \"low flying altitude\", \"near ground flying altitude\", \"actual HP\", \"displayed HP\", \"dangerousness\", \"vision range\", \"optical strength\", \"auto cover range\", \"occupation radius\", \"max speed\", \"max acceleration\", \"max deceleration\", \"half turn time\"]\n",
        "      newNums = [\"concealmentBonus\", \"lowFlyingAltitude\", \"nearGroundFlyingAltitude\", \"actualHP\", \"displayedHP\", \"dangerousness\", \"visionRange\", \"opticalStrength\", \"autoCoverRange\", \"occupationRadius\", \"maxSpeed\", \"maxAcceleration\", \"maxDeceleration\", \"halfTurnTime\"]\n",
        "      for t1, t2 in zip(nums, newNums):\n",
        "        content = new_k.pop(t1, None)\n",
        "        if content:\n",
        "          val = getVal(content)\n",
        "          new_k[t2] = float(re.search('(\\d+)\\.*(\\d*)', val).group(0))\n",
        "\n",
        "      vehicleSubType = new_k.pop(\"vehicle sub type\", None)\n",
        "      if vehicleSubType:\n",
        "        new_k[\"vehicleSubType\"] = getVal(vehicleSubType)\n",
        "\n",
        "      bools = [\"is transporter\", \"is plane\", \"towable\"]\n",
        "      newBools = [\"isTransporter\", \"isPlane\", \"towable\"]\n",
        "      for b1, b2 in zip(bools, newBools):\n",
        "        content = new_k.pop(b1, None)\n",
        "        if content:\n",
        "          new_k[b2] = getVal(content) == 'True'\n",
        "      \n",
        "      div5 = [\"visionRange\", \"autoCoverRange\"]\n",
        "      for d in div5:\n",
        "        content = new_k.pop(d, None)\n",
        "        if content:\n",
        "          new_k[d] = content / 5.0\n",
        "\n",
        "      new_obj.append(new_k)\n",
        "\n",
        "    with open(\"new_units.json\", \"w\") as outfile:\n",
        "      json.dump(new_obj, outfile)"
      ],
      "execution_count": 7,
      "outputs": [
        {
          "output_type": "stream",
          "name": "stdout",
          "text": [
            "2352\n"
          ]
        }
      ]
    },
    {
      "cell_type": "code",
      "metadata": {
        "colab": {
          "base_uri": "https://localhost:8080/",
          "height": 35
        },
        "id": "1fcQygRRA6Ws",
        "outputId": "d3558ff9-dbce-4415-989b-326143529d65"
      },
      "source": [
        "re.search('(\\d+)\\.*(\\d*)', \"((2800) * Metre)\").group(0)"
      ],
      "execution_count": null,
      "outputs": [
        {
          "output_type": "execute_result",
          "data": {
            "application/vnd.google.colaboratory.intrinsic+json": {
              "type": "string"
            },
            "text/plain": [
              "'2800'"
            ]
          },
          "metadata": {},
          "execution_count": 34
        }
      ]
    },
    {
      "cell_type": "code",
      "metadata": {
        "id": "-2NzljowBf21"
      },
      "source": [
        ""
      ],
      "execution_count": null,
      "outputs": []
    }
  ]
}